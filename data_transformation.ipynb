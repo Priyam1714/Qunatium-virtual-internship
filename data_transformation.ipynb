{
 "cells": [
  {
   "cell_type": "code",
   "execution_count": 40,
   "metadata": {},
   "outputs": [],
   "source": [
    "import pandas as pd\n",
    "f1 = pd.read_csv('data/daily_sales_data_0.csv')\n",
    "f2 = pd.read_csv('data/daily_sales_data_1.csv')\n",
    "f3 = pd.read_csv('data/daily_sales_data_2.csv')"
   ]
  },
  {
   "cell_type": "code",
   "execution_count": 41,
   "metadata": {},
   "outputs": [
    {
     "name": "stdout",
     "output_type": "stream",
     "text": [
      "       product  price  quantity        date region\n",
      "0  pink morsel  $3.00       546  2018-02-06  north\n",
      "1  pink morsel  $3.00       549  2018-02-06  south\n",
      "2  pink morsel  $3.00       577  2018-02-06   east\n",
      "3  pink morsel  $3.00       519  2018-02-06   west\n",
      "4  gold morsel  $9.99       580  2018-02-06  north\n",
      "(41160, 5)\n"
     ]
    }
   ],
   "source": [
    "combined_data = pd.concat([f1,f2,f3],axis=0)\n",
    "print(combined_data.head())\n",
    "print(combined_data.shape)"
   ]
  },
  {
   "cell_type": "code",
   "execution_count": 42,
   "metadata": {},
   "outputs": [
    {
     "name": "stdout",
     "output_type": "stream",
     "text": [
      "     sales        date region\n",
      "0   1638.0  2018-02-06  north\n",
      "1   1647.0  2018-02-06  south\n",
      "2   1731.0  2018-02-06   east\n",
      "3   1557.0  2018-02-06   west\n",
      "28  1587.0  2018-02-07  north\n"
     ]
    }
   ],
   "source": [
    "combined_data['price'] = combined_data['price'].str.replace('$','')\n",
    "combined_data = combined_data.loc[combined_data['product']=='pink morsel']\n",
    "combined_data['sales'] = combined_data['price'].astype(float)*combined_data['quantity']\n",
    "combined_data = combined_data[['sales','date','region']]\n",
    "print(combined_data.head())\n",
    "combined_data.to_csv('Final_data.csv',index=False)"
   ]
  }
 ],
 "metadata": {
  "kernelspec": {
   "display_name": ".venv",
   "language": "python",
   "name": "python3"
  },
  "language_info": {
   "codemirror_mode": {
    "name": "ipython",
    "version": 3
   },
   "file_extension": ".py",
   "mimetype": "text/x-python",
   "name": "python",
   "nbconvert_exporter": "python",
   "pygments_lexer": "ipython3",
   "version": "3.12.3"
  }
 },
 "nbformat": 4,
 "nbformat_minor": 2
}
